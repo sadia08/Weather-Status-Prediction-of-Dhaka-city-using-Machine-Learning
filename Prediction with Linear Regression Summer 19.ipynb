{
 "cells": [
  {
   "cell_type": "code",
   "execution_count": 3,
   "metadata": {},
   "outputs": [],
   "source": [
    "#importing Libraries\n",
    "import pandas as pd\n",
    "import numpy as np\n",
    "from pylab import rcParams\n",
    "from sklearn.model_selection import train_test_split\n",
    "from sklearn.linear_model import LinearRegression\n",
    "from sklearn import metrics\n",
    "import seaborn as si\n",
    "import matplotlib.pyplot as plt\n",
    "%matplotlib inline\n",
    "import sklearn\n",
    "from sklearn.preprocessing import scale \n",
    "from collections import Counter"
   ]
  },
  {
   "cell_type": "code",
   "execution_count": 7,
   "metadata": {},
   "outputs": [],
   "source": [
    "df=pd.read_csv('J:/Summer 19/AI LAB/Weather Status Prediction/weather_summer.csv').set_index('date')"
   ]
  },
  {
   "cell_type": "code",
   "execution_count": 8,
   "metadata": {},
   "outputs": [
    {
     "data": {
      "text/html": [
       "<div>\n",
       "<style scoped>\n",
       "    .dataframe tbody tr th:only-of-type {\n",
       "        vertical-align: middle;\n",
       "    }\n",
       "\n",
       "    .dataframe tbody tr th {\n",
       "        vertical-align: top;\n",
       "    }\n",
       "\n",
       "    .dataframe thead th {\n",
       "        text-align: right;\n",
       "    }\n",
       "</style>\n",
       "<table border=\"1\" class=\"dataframe\">\n",
       "  <thead>\n",
       "    <tr style=\"text-align: right;\">\n",
       "      <th></th>\n",
       "      <th>meantempm</th>\n",
       "      <th>MaxTemp</th>\n",
       "      <th>MinTemp</th>\n",
       "      <th>meantempm_1</th>\n",
       "      <th>meanhumidity</th>\n",
       "      <th>maxhumidity</th>\n",
       "      <th>minhumidity</th>\n",
       "      <th>meanhumidity_1</th>\n",
       "      <th>meanpressurem</th>\n",
       "      <th>maxpressurem</th>\n",
       "      <th>minpressurem</th>\n",
       "      <th>precipm</th>\n",
       "      <th>windspeed</th>\n",
       "      <th>maxdew</th>\n",
       "      <th>mindew</th>\n",
       "    </tr>\n",
       "    <tr>\n",
       "      <th>date</th>\n",
       "      <th></th>\n",
       "      <th></th>\n",
       "      <th></th>\n",
       "      <th></th>\n",
       "      <th></th>\n",
       "      <th></th>\n",
       "      <th></th>\n",
       "      <th></th>\n",
       "      <th></th>\n",
       "      <th></th>\n",
       "      <th></th>\n",
       "      <th></th>\n",
       "      <th></th>\n",
       "      <th></th>\n",
       "      <th></th>\n",
       "    </tr>\n",
       "  </thead>\n",
       "  <tbody>\n",
       "    <tr>\n",
       "      <th>01-Apr-19</th>\n",
       "      <td>27</td>\n",
       "      <td>33</td>\n",
       "      <td>21</td>\n",
       "      <td>26</td>\n",
       "      <td>60%</td>\n",
       "      <td>90%</td>\n",
       "      <td>30%</td>\n",
       "      <td>61%</td>\n",
       "      <td>1010%</td>\n",
       "      <td>1011</td>\n",
       "      <td>1008</td>\n",
       "      <td>156.3mm</td>\n",
       "      <td>2mph</td>\n",
       "      <td>24</td>\n",
       "      <td>20</td>\n",
       "    </tr>\n",
       "    <tr>\n",
       "      <th>02-Apr-19</th>\n",
       "      <td>26</td>\n",
       "      <td>29</td>\n",
       "      <td>22</td>\n",
       "      <td>25</td>\n",
       "      <td>62%</td>\n",
       "      <td>76%</td>\n",
       "      <td>48%</td>\n",
       "      <td>60%</td>\n",
       "      <td>1011%</td>\n",
       "      <td>1013</td>\n",
       "      <td>1009</td>\n",
       "      <td>150.6mm</td>\n",
       "      <td>3mph</td>\n",
       "      <td>23</td>\n",
       "      <td>21</td>\n",
       "    </tr>\n",
       "    <tr>\n",
       "      <th>03-Apr-19</th>\n",
       "      <td>29</td>\n",
       "      <td>34</td>\n",
       "      <td>24</td>\n",
       "      <td>30</td>\n",
       "      <td>61%</td>\n",
       "      <td>87%</td>\n",
       "      <td>35%</td>\n",
       "      <td>59%</td>\n",
       "      <td>1008%</td>\n",
       "      <td>1010</td>\n",
       "      <td>1006</td>\n",
       "      <td>148.40mm</td>\n",
       "      <td>2mph</td>\n",
       "      <td>21</td>\n",
       "      <td>20</td>\n",
       "    </tr>\n",
       "    <tr>\n",
       "      <th>04-Apr-19</th>\n",
       "      <td>28</td>\n",
       "      <td>33</td>\n",
       "      <td>23</td>\n",
       "      <td>29</td>\n",
       "      <td>59.50%</td>\n",
       "      <td>75%</td>\n",
       "      <td>44%</td>\n",
       "      <td>58.00%</td>\n",
       "      <td>1007%</td>\n",
       "      <td>1008</td>\n",
       "      <td>1005</td>\n",
       "      <td>156.3mm</td>\n",
       "      <td>3mph</td>\n",
       "      <td>25</td>\n",
       "      <td>21</td>\n",
       "    </tr>\n",
       "    <tr>\n",
       "      <th>05-Apr-19</th>\n",
       "      <td>29</td>\n",
       "      <td>34</td>\n",
       "      <td>24</td>\n",
       "      <td>28</td>\n",
       "      <td>61%</td>\n",
       "      <td>85%</td>\n",
       "      <td>37%</td>\n",
       "      <td>60%</td>\n",
       "      <td>1006%</td>\n",
       "      <td>1008</td>\n",
       "      <td>1004</td>\n",
       "      <td>156.3mm</td>\n",
       "      <td>6mph</td>\n",
       "      <td>22</td>\n",
       "      <td>20</td>\n",
       "    </tr>\n",
       "  </tbody>\n",
       "</table>\n",
       "</div>"
      ],
      "text/plain": [
       "           meantempm  MaxTemp  MinTemp  meantempm_1 meanhumidity maxhumidity  \\\n",
       "date                                                                           \n",
       "01-Apr-19         27       33       21           26          60%         90%   \n",
       "02-Apr-19         26       29       22           25          62%         76%   \n",
       "03-Apr-19         29       34       24           30          61%         87%   \n",
       "04-Apr-19         28       33       23           29       59.50%         75%   \n",
       "05-Apr-19         29       34       24           28          61%         85%   \n",
       "\n",
       "          minhumidity meanhumidity_1 meanpressurem maxpressurem minpressurem  \\\n",
       "date                                                                           \n",
       "01-Apr-19         30%            61%         1010%         1011         1008   \n",
       "02-Apr-19         48%            60%         1011%         1013         1009   \n",
       "03-Apr-19         35%            59%         1008%         1010         1006   \n",
       "04-Apr-19         44%         58.00%         1007%         1008         1005   \n",
       "05-Apr-19         37%            60%         1006%         1008         1004   \n",
       "\n",
       "            precipm windspeed  maxdew  mindew  \n",
       "date                                           \n",
       "01-Apr-19   156.3mm      2mph      24      20  \n",
       "02-Apr-19   150.6mm      3mph      23      21  \n",
       "03-Apr-19  148.40mm      2mph      21      20  \n",
       "04-Apr-19   156.3mm      3mph      25      21  \n",
       "05-Apr-19   156.3mm      6mph      22      20  "
      ]
     },
     "execution_count": 8,
     "metadata": {},
     "output_type": "execute_result"
    }
   ],
   "source": [
    "df.head()"
   ]
  },
  {
   "cell_type": "code",
   "execution_count": 9,
   "metadata": {},
   "outputs": [
    {
     "data": {
      "text/html": [
       "<div>\n",
       "<style scoped>\n",
       "    .dataframe tbody tr th:only-of-type {\n",
       "        vertical-align: middle;\n",
       "    }\n",
       "\n",
       "    .dataframe tbody tr th {\n",
       "        vertical-align: top;\n",
       "    }\n",
       "\n",
       "    .dataframe thead th {\n",
       "        text-align: right;\n",
       "    }\n",
       "</style>\n",
       "<table border=\"1\" class=\"dataframe\">\n",
       "  <thead>\n",
       "    <tr style=\"text-align: right;\">\n",
       "      <th></th>\n",
       "      <th>count</th>\n",
       "      <th>mean</th>\n",
       "      <th>std</th>\n",
       "      <th>min</th>\n",
       "      <th>25%</th>\n",
       "      <th>50%</th>\n",
       "      <th>75%</th>\n",
       "      <th>max</th>\n",
       "    </tr>\n",
       "  </thead>\n",
       "  <tbody>\n",
       "    <tr>\n",
       "      <th>meantempm</th>\n",
       "      <td>122.0</td>\n",
       "      <td>29.524590</td>\n",
       "      <td>2.167426</td>\n",
       "      <td>23.0</td>\n",
       "      <td>28.0</td>\n",
       "      <td>30.0</td>\n",
       "      <td>31.0</td>\n",
       "      <td>37.0</td>\n",
       "    </tr>\n",
       "    <tr>\n",
       "      <th>MaxTemp</th>\n",
       "      <td>122.0</td>\n",
       "      <td>32.418033</td>\n",
       "      <td>2.292064</td>\n",
       "      <td>26.0</td>\n",
       "      <td>31.0</td>\n",
       "      <td>33.0</td>\n",
       "      <td>34.0</td>\n",
       "      <td>36.0</td>\n",
       "    </tr>\n",
       "    <tr>\n",
       "      <th>MinTemp</th>\n",
       "      <td>122.0</td>\n",
       "      <td>26.475410</td>\n",
       "      <td>2.912535</td>\n",
       "      <td>20.0</td>\n",
       "      <td>25.0</td>\n",
       "      <td>27.0</td>\n",
       "      <td>28.0</td>\n",
       "      <td>38.0</td>\n",
       "    </tr>\n",
       "    <tr>\n",
       "      <th>meantempm_1</th>\n",
       "      <td>122.0</td>\n",
       "      <td>28.680328</td>\n",
       "      <td>2.238899</td>\n",
       "      <td>24.0</td>\n",
       "      <td>27.0</td>\n",
       "      <td>29.0</td>\n",
       "      <td>30.0</td>\n",
       "      <td>33.0</td>\n",
       "    </tr>\n",
       "    <tr>\n",
       "      <th>maxdew</th>\n",
       "      <td>122.0</td>\n",
       "      <td>24.573770</td>\n",
       "      <td>1.360105</td>\n",
       "      <td>21.0</td>\n",
       "      <td>24.0</td>\n",
       "      <td>25.0</td>\n",
       "      <td>26.0</td>\n",
       "      <td>26.0</td>\n",
       "    </tr>\n",
       "    <tr>\n",
       "      <th>mindew</th>\n",
       "      <td>122.0</td>\n",
       "      <td>21.909836</td>\n",
       "      <td>1.342282</td>\n",
       "      <td>20.0</td>\n",
       "      <td>21.0</td>\n",
       "      <td>22.0</td>\n",
       "      <td>23.0</td>\n",
       "      <td>24.0</td>\n",
       "    </tr>\n",
       "  </tbody>\n",
       "</table>\n",
       "</div>"
      ],
      "text/plain": [
       "             count       mean       std   min   25%   50%   75%   max\n",
       "meantempm    122.0  29.524590  2.167426  23.0  28.0  30.0  31.0  37.0\n",
       "MaxTemp      122.0  32.418033  2.292064  26.0  31.0  33.0  34.0  36.0\n",
       "MinTemp      122.0  26.475410  2.912535  20.0  25.0  27.0  28.0  38.0\n",
       "meantempm_1  122.0  28.680328  2.238899  24.0  27.0  29.0  30.0  33.0\n",
       "maxdew       122.0  24.573770  1.360105  21.0  24.0  25.0  26.0  26.0\n",
       "mindew       122.0  21.909836  1.342282  20.0  21.0  22.0  23.0  24.0"
      ]
     },
     "execution_count": 9,
     "metadata": {},
     "output_type": "execute_result"
    }
   ],
   "source": [
    "df.describe().T"
   ]
  },
  {
   "cell_type": "code",
   "execution_count": 13,
   "metadata": {},
   "outputs": [
    {
     "data": {
      "text/plain": [
       "<bound method DataFrame.info of            meantempm  MaxTemp  MinTemp  meantempm_1 meanhumidity maxhumidity  \\\n",
       "date                                                                           \n",
       "01-Apr-19         27       33       21           26          60%         90%   \n",
       "02-Apr-19         26       29       22           25          62%         76%   \n",
       "03-Apr-19         29       34       24           30          61%         87%   \n",
       "04-Apr-19         28       33       23           29       59.50%         75%   \n",
       "05-Apr-19         29       34       24           28          61%         85%   \n",
       "06-Apr-19         27       31       23           26       73.50%         91%   \n",
       "07-Apr-19         27       32       23           30       71.50%         93%   \n",
       "08-Apr-19         28       33       23           31       69.50%         95%   \n",
       "09-Apr-19         31       33       28           29       53.50%         67%   \n",
       "10-Apr-19         31       33       28           30          50%         62%   \n",
       "11-Apr-19         28       33       23           27       66.50%         88%   \n",
       "12-Apr-19         27       33       21           25       65.50%         91%   \n",
       "13-Apr-19         27       33       22           26       64.50%         81%   \n",
       "14-Apr-19         32       34       29           31          64%         74%   \n",
       "15-Apr-19         27       33       22           26       62.50%         83%   \n",
       "16-Apr-19         30       35       25           28          66%         94%   \n",
       "17-Apr-19         26       29       24           24       70.50%         78%   \n",
       "18-Apr-19         27       32       21           29       75.50%        100%   \n",
       "19-Apr-19         29       32       26           28       67.50%         76%   \n",
       "20-Apr-19         30       30       30           32       70.50%         76%   \n",
       "21-Apr-19         28       31       24           30          82%         88%   \n",
       "22-Apr-19         29       33       26           30          78%         95%   \n",
       "23-Apr-19         30       35       24           26       73.50%         93%   \n",
       "24-Apr-19         29       33       26           28          75%         92%   \n",
       "25-Apr-19         28       34       22           26          66%         95%   \n",
       "26-Apr-19         28       33       22           25          60%         84%   \n",
       "27-Apr-19         27       31       22           26       53.50%         91%   \n",
       "28-Apr-19         29       34       25           28       69.50%         85%   \n",
       "29-Apr-19         23       27       20           25       83.50%         92%   \n",
       "30-Apr-19         25       27       22           24       79.50%         83%   \n",
       "...              ...      ...      ...          ...          ...         ...   \n",
       "02-Jul-19         27       28       26           25          86%         94%   \n",
       "03-Jul-19         32       33       31           30          67%         70%   \n",
       "04-Jul-19         29       29       29           26          91%         91%   \n",
       "05-Jul-19         29       30       28           27          76%         85%   \n",
       "06-Jul-19         29       30       27           28          87%         90%   \n",
       "07-Jul-19         29       30       27           27          90%         96%   \n",
       "08-Jul-19         29       30       28           30          90%        100%   \n",
       "09-Jul-19         30       31       28           29          88%         93%   \n",
       "10-Jul-19         30       32       28           28          82%         90%   \n",
       "11-Jul-19         28       30       26           26          89%         94%   \n",
       "12-Jul-19         29       32       26           26          87%         96%   \n",
       "13-Jul-19         30       33       26           29          84%         98%   \n",
       "14-Jul-19         27       29       25           28          90%         95%   \n",
       "15-Jul-19         28       30       26           30          89%         96%   \n",
       "16-Jul-19         31       34       27           32          91%         97%   \n",
       "17-Jul-19         31       35       27           31          81%        100%   \n",
       "18-Jul-19         32       34       29           30          73%         77%   \n",
       "19-Jul-19         31       34       28           30          75%         84%   \n",
       "20-Jul-19         32       35       29           29          71%         89%   \n",
       "21-Jul-19         32       35       29           31          72%         91%   \n",
       "22-Jul-19         31       32       30           30          80%         83%   \n",
       "23-Jul-19         32       33       30           33          71%         78%   \n",
       "24-Jul-19         30       30       29           30          85%         90%   \n",
       "25-Jul-19         30       33       27           32          80%         96%   \n",
       "26-Jul-19         28       30       26           29          88%         96%   \n",
       "27-Jul-19         28       30       26           27          86%         97%   \n",
       "28-Jul-19         30       32       27           31          76%         89%   \n",
       "29-Jul-19         30       32       28           30          80%         83%   \n",
       "30-Jul-19         30       31       28           31          80%         90%   \n",
       "31-Jul-19         28       28       28           29          89%         89%   \n",
       "\n",
       "          minhumidity meanhumidity_1 meanpressurem maxpressurem minpressurem  \\\n",
       "date                                                                           \n",
       "01-Apr-19         30%            61%         1010%         1011         1008   \n",
       "02-Apr-19         48%            60%         1011%         1013         1009   \n",
       "03-Apr-19         35%            59%         1008%         1010         1006   \n",
       "04-Apr-19         44%         58.00%         1007%         1008         1005   \n",
       "05-Apr-19         37%            60%         1006%         1008         1004   \n",
       "06-Apr-19         56%         71.00%         1008%         1010         1006   \n",
       "07-Apr-19         50%         70.00%         1010%         1012         1008   \n",
       "08-Apr-19         44%         68.00%         1011%         1013         1009   \n",
       "09-Apr-19         40%         52.00%         1010%         1012         1008   \n",
       "10-Apr-19         38%            49%         1010%         1012         1007   \n",
       "11-Apr-19         45%         65.00%         1009%         1011         1007   \n",
       "12-Apr-19         40%         63.00%         1008%         1010         1006   \n",
       "13-Apr-19         48%         62.00%         1008%         1010         1006   \n",
       "14-Apr-19         54%            62%         1008%         1009         1006   \n",
       "15-Apr-19         42%         61.00%         1009%         1010         1007   \n",
       "16-Apr-19         38%            63%         1007%         1009         1005   \n",
       "17-Apr-19         63%         69.00%         1009%         1011         1007   \n",
       "18-Apr-19         51%         74.00%         1008%         1012         1004   \n",
       "19-Apr-19         59%         66.00%         1005%         1007         1003   \n",
       "20-Apr-19         65%         68.00%         1006%         1007         1004   \n",
       "21-Apr-19         76%            80%         1005%         1006         1003   \n",
       "22-Apr-19         61%            76%         1008%         1009         1006   \n",
       "23-Apr-19         54%         71.00%         1008%         1010         1005   \n",
       "24-Apr-19         58%            73%         1008%         1009         1006   \n",
       "25-Apr-19         37%            64%         1005%         1007         1002   \n",
       "26-Apr-19         36%            58%         1008%         1009         1006   \n",
       "27-Apr-19         16%         52.00%         1009%         1011         1007   \n",
       "28-Apr-19         51%         67.00%         1008%         1010         1005   \n",
       "29-Apr-19         73%         81.00%         1007%         1010         1004   \n",
       "30-Apr-19         76%         77.00%         1007%         1007         1007   \n",
       "...               ...            ...           ...          ...          ...   \n",
       "02-Jul-19         77%         87.00%          997%          999          998   \n",
       "03-Jul-19         63%         68.00%          996%          998          997   \n",
       "04-Jul-19         91%         90.00%         1000%         1000         1000   \n",
       "05-Jul-19         67%         66.00%          998%          998          997   \n",
       "06-Jul-19         83%         88.00%          994%          996          993   \n",
       "07-Jul-19         83%         91.00%          996%       99900%         999%   \n",
       "08-Jul-19         79%         90.00%          998%          999          998   \n",
       "09-Jul-19         83%         89.00%          998%          999          997   \n",
       "10-Jul-19         74%         81.00%          998%          999          997   \n",
       "11-Jul-19         83%         89.00%         1001%         1004          999   \n",
       "12-Jul-19         77%         87.00%         1003%         1004         1002   \n",
       "13-Jul-19         70%         85.00%         1001%         1003          999   \n",
       "14-Jul-19         85%         89.00%         1000%         1002          998   \n",
       "15-Jul-19         79%         89.00%         1000%         1001          999   \n",
       "16-Jul-19         85%         90.00%         1001%         1003          999   \n",
       "17-Jul-19         61%         83.00%         1001%         1002         1001   \n",
       "18-Jul-19         68%         75.00%          999%         1001          998   \n",
       "19-Jul-19         66%         76.00%         1002%         1003         1001   \n",
       "20-Jul-19         53%         70.00%         1003%         1005         1002   \n",
       "21-Jul-19         52%         73.00%         1003%         1005         1001   \n",
       "22-Jul-19         76%         79.00%         1003%         1004         1003   \n",
       "23-Jul-19         64%         73.00%         1000%         1002          999   \n",
       "24-Jul-19         79%         86.00%         1002%         1003         1002   \n",
       "25-Jul-19         63%         81.00%         1000%         1002          999   \n",
       "26-Jul-19         80%         89.00%          999%         1001          997   \n",
       "27-Jul-19         74%         87.00%          999%         1001          998   \n",
       "28-Jul-19         63%         77.00%         1002%         1003         1001   \n",
       "29-Jul-19         76%         82.00%         1002%         1004         1001   \n",
       "30-Jul-19         69%         80.00%         1003%         1004         1002   \n",
       "31-Jul-19         89%         89.00%         1004%         1004         1004   \n",
       "\n",
       "            precipm windspeed  maxdew  mindew  \n",
       "date                                           \n",
       "01-Apr-19   156.3mm      2mph      24      20  \n",
       "02-Apr-19   150.6mm      3mph      23      21  \n",
       "03-Apr-19  148.40mm      2mph      21      20  \n",
       "04-Apr-19   156.3mm      3mph      25      21  \n",
       "05-Apr-19   156.3mm      6mph      22      20  \n",
       "06-Apr-19   154.5mm      3mph      24      21  \n",
       "07-Apr-19   153.5mm      3mph      24      22  \n",
       "08-Apr-19   150.6mm      6mph      25      21  \n",
       "09-Apr-19   151.6mm      3mph      23      20  \n",
       "10-Apr-19   155.8mm      3mph      23      21  \n",
       "11-Apr-19   156.3mm      3mph      24      20  \n",
       "12-Apr-19   156.3mm      3mph      23      20  \n",
       "13-Apr-19   155.3mm      3mph      25      21  \n",
       "14-Apr-19   153.6mm      9mph      23      21  \n",
       "15-Apr-19   153.6mm      0mph      25      22  \n",
       "16-Apr-19   150.6mm      2mph      22      20  \n",
       "17-Apr-19   153.6mm      6mph      21      20  \n",
       "18-Apr-19   153.6mm      2mph      24      20  \n",
       "19-Apr-19   153.6mm      6mph      23      20  \n",
       "20-Apr-19   153.6mm      2mph      25      21  \n",
       "21-Apr-19   153.6mm      3mph      23      21  \n",
       "22-Apr-19   153.6mm      6mph      24      20  \n",
       "23-Apr-19   150.3mm      2mph      22      20  \n",
       "24-Apr-19   151.6mm      2mph      23      21  \n",
       "25-Apr-19   153.6mm      3mph      22      21  \n",
       "26-Apr-19   153.6mm      6mph      23      20  \n",
       "27-Apr-19   156.3mm      5mph      24      20  \n",
       "28-Apr-19     150mm      6mph      25      20  \n",
       "29-Apr-19   153.5mm      6mph      25      20  \n",
       "30-Apr-19   153.4mm      3mph      23      20  \n",
       "...             ...       ...     ...     ...  \n",
       "02-Jul-19   373.1mm      6mph      26      22  \n",
       "03-Jul-19   376.4mm      6mph      26      22  \n",
       "04-Jul-19   373.4mm      0mph      26      21  \n",
       "05-Jul-19   371.4mm      3mph      26      21  \n",
       "06-Jul-19   373.1mm      3mph      26      24  \n",
       "07-Jul-19   373.1mm      6mph      26      24  \n",
       "08-Jul-19   376.4mm      3mph      26      24  \n",
       "09-Jul-19   373.1mm      5mph      26      23  \n",
       "10-Jul-19   373.1mm      6mph      26      24  \n",
       "11-Jul-19   376.4mm      5mph      26      24  \n",
       "12-Jul-19   373.1mm      3mph      26      24  \n",
       "13-Jul-19   373.1mm      3mph      26      24  \n",
       "14-Jul-19   373.1mm      3mph      26      24  \n",
       "15-Jul-19   376.4mm      6mph      26      24  \n",
       "16-Jul-19   373.1mm      3mph      26      24  \n",
       "17-Jul-19   373.1mm      6mph      26      24  \n",
       "18-Jul-19   373.1mm      2mph      26      24  \n",
       "19-Jul-19   373.1mm      2mph      26      24  \n",
       "20-Jul-19   376.4mm      3mph      26      24  \n",
       "21-Jul-19   373.1mm      2mph      26      23  \n",
       "22-Jul-19   373.1mm      2mph      26      23  \n",
       "23-Jul-19   373.1mm      6mph      26      24  \n",
       "24-Jul-19   373.1mm      3mph      26      24  \n",
       "25-Jul-19   373.1mm      2mph      26      24  \n",
       "26-Jul-19   376.4mm      6mph      26      24  \n",
       "27-Jul-19   376.4mm      6mph      26      24  \n",
       "28-Jul-19   373.1mm      6mph      26      24  \n",
       "29-Jul-19   373.1mm      2mph      26      24  \n",
       "30-Jul-19   376.4mm      3mph      26      24  \n",
       "31-Jul-19   376.4mm      2mph      26      24  \n",
       "\n",
       "[122 rows x 15 columns]>"
      ]
     },
     "execution_count": 13,
     "metadata": {},
     "output_type": "execute_result"
    }
   ],
   "source": [
    "df.info"
   ]
  },
  {
   "cell_type": "code",
   "execution_count": 15,
   "metadata": {},
   "outputs": [
    {
     "data": {
      "text/plain": [
       "<seaborn.axisgrid.PairGrid at 0x1cc4a205ac8>"
      ]
     },
     "execution_count": 15,
     "metadata": {},
     "output_type": "execute_result"
    },
    {
     "data": {
      "image/png": "[encoded data removed]",
      "text/plain": [
       "<Figure size 1080x1080 with 42 Axes>"
      ]
     },
     "metadata": {
      "needs_background": "light"
     },
     "output_type": "display_data"
    }
   ],
   "source": [
    "si.pairplot(df)"
   ]
  },
  {
   "cell_type": "code",
   "execution_count": 18,
   "metadata": {},
   "outputs": [
    {
     "data": {
      "text/plain": [
       "(122, 15)"
      ]
     },
     "execution_count": 18,
     "metadata": {},
     "output_type": "execute_result"
    }
   ],
   "source": [
    "df.shape"
   ]
  },
  {
   "cell_type": "code",
   "execution_count": 19,
   "metadata": {},
   "outputs": [
    {
     "data": {
      "image/png": "[encoded data removed]",
      "text/plain": [
       "<Figure size 432x288 with 1 Axes>"
      ]
     },
     "metadata": {
      "needs_background": "light"
     },
     "output_type": "display_data"
    }
   ],
   "source": [
    "df.plot(x='MinTemp',y='MaxTemp', style='o')\n",
    "plt.title('MinTemp vs MaxTemp')\n",
    "plt.xlabel=('MinTemp')\n",
    "plt.ylabel=('MaxTemp')\n",
    "plt.show()"
   ]
  },
  {
   "cell_type": "code",
   "execution_count": 20,
   "metadata": {},
   "outputs": [
    {
     "data": {
      "text/plain": [
       "<matplotlib.axes._subplots.AxesSubplot at 0x1cc4f1bf978>"
      ]
     },
     "execution_count": 20,
     "metadata": {},
     "output_type": "execute_result"
    },
    {
     "data": {
      "image/png": "[encoded data removed]",
      "text/plain": [
       "<Figure size 720x360 with 1 Axes>"
      ]
     },
     "metadata": {
      "needs_background": "light"
     },
     "output_type": "display_data"
    }
   ],
   "source": [
    "plt.figure(figsize=(10,5))\n",
    "plt.tight_layout\n",
    "si.distplot (df['MaxTemp'])"
   ]
  },
  {
   "cell_type": "code",
   "execution_count": 21,
   "metadata": {},
   "outputs": [
    {
     "data": {
      "text/plain": [
       "<matplotlib.axes._subplots.AxesSubplot at 0x1cc4f153da0>"
      ]
     },
     "execution_count": 21,
     "metadata": {},
     "output_type": "execute_result"
    },
    {
     "data": {
      "image/png": "[encoded data removed]",
      "text/plain": [
       "<Figure size 720x360 with 1 Axes>"
      ]
     },
     "metadata": {
      "needs_background": "light"
     },
     "output_type": "display_data"
    }
   ],
   "source": [
    "plt.figure(figsize=(10,5))\n",
    "plt.tight_layout\n",
    "si.distplot (df['MinTemp'])"
   ]
  },
  {
   "cell_type": "code",
   "execution_count": 23,
   "metadata": {},
   "outputs": [],
   "source": [
    "X= df['MinTemp'].values.reshape(-1,1)\n",
    "Y= df['MaxTemp'].values.reshape(-1,1)"
   ]
  },
  {
   "cell_type": "code",
   "execution_count": 24,
   "metadata": {},
   "outputs": [],
   "source": [
    "x_train, x_test, y_train, y_test = train_test_split(X,Y , test_size=0.2, random_state=0)"
   ]
  },
  {
   "cell_type": "code",
   "execution_count": 25,
   "metadata": {},
   "outputs": [
    {
     "data": {
      "text/plain": [
       "LinearRegression(copy_X=True, fit_intercept=True, n_jobs=None,\n",
       "         normalize=False)"
      ]
     },
     "execution_count": 25,
     "metadata": {},
     "output_type": "execute_result"
    }
   ],
   "source": [
    "regression_model =LinearRegression()\n",
    "regression_model.fit(x_train, y_train)"
   ]
  },
  {
   "cell_type": "code",
   "execution_count": 26,
   "metadata": {},
   "outputs": [
    {
     "name": "stdout",
     "output_type": "stream",
     "text": [
      "Intercept: [24.3013433]\n",
      "Slope: [[0.30727508]]\n"
     ]
    }
   ],
   "source": [
    "print(\"Intercept:\", regression_model.intercept_ )\n",
    "print (\"Slope:\", regression_model.coef_)"
   ]
  },
  {
   "cell_type": "code",
   "execution_count": 27,
   "metadata": {},
   "outputs": [
    {
     "data": {
      "text/html": [
       "<div>\n",
       "<style scoped>\n",
       "    .dataframe tbody tr th:only-of-type {\n",
       "        vertical-align: middle;\n",
       "    }\n",
       "\n",
       "    .dataframe tbody tr th {\n",
       "        vertical-align: top;\n",
       "    }\n",
       "\n",
       "    .dataframe thead th {\n",
       "        text-align: right;\n",
       "    }\n",
       "</style>\n",
       "<table border=\"1\" class=\"dataframe\">\n",
       "  <thead>\n",
       "    <tr style=\"text-align: right;\">\n",
       "      <th></th>\n",
       "      <th>Actual</th>\n",
       "      <th>Predicted</th>\n",
       "    </tr>\n",
       "  </thead>\n",
       "  <tbody>\n",
       "    <tr>\n",
       "      <th>0</th>\n",
       "      <td>36</td>\n",
       "      <td>33.212321</td>\n",
       "    </tr>\n",
       "    <tr>\n",
       "      <th>1</th>\n",
       "      <td>30</td>\n",
       "      <td>32.597770</td>\n",
       "    </tr>\n",
       "    <tr>\n",
       "      <th>2</th>\n",
       "      <td>33</td>\n",
       "      <td>31.368670</td>\n",
       "    </tr>\n",
       "    <tr>\n",
       "      <th>3</th>\n",
       "      <td>29</td>\n",
       "      <td>33.212321</td>\n",
       "    </tr>\n",
       "    <tr>\n",
       "      <th>4</th>\n",
       "      <td>33</td>\n",
       "      <td>32.905045</td>\n",
       "    </tr>\n",
       "    <tr>\n",
       "      <th>5</th>\n",
       "      <td>30</td>\n",
       "      <td>31.061395</td>\n",
       "    </tr>\n",
       "    <tr>\n",
       "      <th>6</th>\n",
       "      <td>35</td>\n",
       "      <td>31.675945</td>\n",
       "    </tr>\n",
       "    <tr>\n",
       "      <th>7</th>\n",
       "      <td>33</td>\n",
       "      <td>31.368670</td>\n",
       "    </tr>\n",
       "    <tr>\n",
       "      <th>8</th>\n",
       "      <td>32</td>\n",
       "      <td>32.290495</td>\n",
       "    </tr>\n",
       "    <tr>\n",
       "      <th>9</th>\n",
       "      <td>34</td>\n",
       "      <td>32.905045</td>\n",
       "    </tr>\n",
       "    <tr>\n",
       "      <th>10</th>\n",
       "      <td>35</td>\n",
       "      <td>33.212321</td>\n",
       "    </tr>\n",
       "    <tr>\n",
       "      <th>11</th>\n",
       "      <td>34</td>\n",
       "      <td>32.905045</td>\n",
       "    </tr>\n",
       "    <tr>\n",
       "      <th>12</th>\n",
       "      <td>34</td>\n",
       "      <td>32.290495</td>\n",
       "    </tr>\n",
       "    <tr>\n",
       "      <th>13</th>\n",
       "      <td>31</td>\n",
       "      <td>32.290495</td>\n",
       "    </tr>\n",
       "    <tr>\n",
       "      <th>14</th>\n",
       "      <td>34</td>\n",
       "      <td>31.675945</td>\n",
       "    </tr>\n",
       "    <tr>\n",
       "      <th>15</th>\n",
       "      <td>34</td>\n",
       "      <td>31.983220</td>\n",
       "    </tr>\n",
       "    <tr>\n",
       "      <th>16</th>\n",
       "      <td>31</td>\n",
       "      <td>32.905045</td>\n",
       "    </tr>\n",
       "    <tr>\n",
       "      <th>17</th>\n",
       "      <td>34</td>\n",
       "      <td>31.061395</td>\n",
       "    </tr>\n",
       "    <tr>\n",
       "      <th>18</th>\n",
       "      <td>28</td>\n",
       "      <td>32.905045</td>\n",
       "    </tr>\n",
       "    <tr>\n",
       "      <th>19</th>\n",
       "      <td>32</td>\n",
       "      <td>31.368670</td>\n",
       "    </tr>\n",
       "    <tr>\n",
       "      <th>20</th>\n",
       "      <td>30</td>\n",
       "      <td>32.905045</td>\n",
       "    </tr>\n",
       "    <tr>\n",
       "      <th>21</th>\n",
       "      <td>30</td>\n",
       "      <td>32.290495</td>\n",
       "    </tr>\n",
       "    <tr>\n",
       "      <th>22</th>\n",
       "      <td>34</td>\n",
       "      <td>32.597770</td>\n",
       "    </tr>\n",
       "    <tr>\n",
       "      <th>23</th>\n",
       "      <td>29</td>\n",
       "      <td>31.675945</td>\n",
       "    </tr>\n",
       "    <tr>\n",
       "      <th>24</th>\n",
       "      <td>30</td>\n",
       "      <td>32.597770</td>\n",
       "    </tr>\n",
       "  </tbody>\n",
       "</table>\n",
       "</div>"
      ],
      "text/plain": [
       "    Actual  Predicted\n",
       "0       36  33.212321\n",
       "1       30  32.597770\n",
       "2       33  31.368670\n",
       "3       29  33.212321\n",
       "4       33  32.905045\n",
       "5       30  31.061395\n",
       "6       35  31.675945\n",
       "7       33  31.368670\n",
       "8       32  32.290495\n",
       "9       34  32.905045\n",
       "10      35  33.212321\n",
       "11      34  32.905045\n",
       "12      34  32.290495\n",
       "13      31  32.290495\n",
       "14      34  31.675945\n",
       "15      34  31.983220\n",
       "16      31  32.905045\n",
       "17      34  31.061395\n",
       "18      28  32.905045\n",
       "19      32  31.368670\n",
       "20      30  32.905045\n",
       "21      30  32.290495\n",
       "22      34  32.597770\n",
       "23      29  31.675945\n",
       "24      30  32.597770"
      ]
     },
     "execution_count": 27,
     "metadata": {},
     "output_type": "execute_result"
    }
   ],
   "source": [
    "#prediction\n",
    "predict= regression_model.predict(x_test)\n",
    "df_predict= pd.DataFrame({'Actual':y_test.flatten(), 'Predicted':predict.flatten()})\n",
    "df_predict"
   ]
  },
  {
   "cell_type": "code",
   "execution_count": 28,
   "metadata": {},
   "outputs": [
    {
     "data": {
      "image/png": "[encoded data removed]",
      "text/plain": [
       "<Figure size 432x288 with 1 Axes>"
      ]
     },
     "metadata": {
      "needs_background": "light"
     },
     "output_type": "display_data"
    }
   ],
   "source": [
    "plt.scatter(x_test, y_test)\n",
    "plt.plot(x_test, predict, color='blue', linewidth='3')\n",
    "plt.show()"
   ]
  },
  {
   "cell_type": "code",
   "execution_count": 29,
   "metadata": {},
   "outputs": [
    {
     "name": "stdout",
     "output_type": "stream",
     "text": [
      "RMS ERROR IN THE PREDICTED WEATHER: 2.330568176156873\n"
     ]
    }
   ],
   "source": [
    "print(\"RMS ERROR IN THE PREDICTED WEATHER:\" ,np.sqrt(metrics.mean_squared_error(y_test,predict)))"
   ]
  },
  {
   "cell_type": "code",
   "execution_count": null,
   "metadata": {},
   "outputs": [],
   "source": []
  }
 ],
 "metadata": {
  "kernelspec": {
   "display_name": "Python 3",
   "language": "python",
   "name": "python3"
  },
  "language_info": {
   "codemirror_mode": {
    "name": "ipython",
    "version": 3
   },
   "file_extension": ".py",
   "mimetype": "text/x-python",
   "name": "python",
   "nbconvert_exporter": "python",
   "pygments_lexer": "ipython3",
   "version": "3.7.3"
  }
 },
 "nbformat": 4,
 "nbformat_minor": 2
}
